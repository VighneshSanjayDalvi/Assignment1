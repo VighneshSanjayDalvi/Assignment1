{
  "nbformat": 4,
  "nbformat_minor": 0,
  "metadata": {
    "colab": {
      "name": "Assignment 1 python zero to hero.ipynb",
      "provenance": [],
      "toc_visible": true,
      "authorship_tag": "ABX9TyOze/PO2Sp22AK3FKSj7nP9",
      "include_colab_link": true
    },
    "kernelspec": {
      "name": "python3",
      "display_name": "Python 3"
    },
    "language_info": {
      "name": "python"
    }
  },
  "cells": [
    {
      "cell_type": "markdown",
      "metadata": {
        "id": "view-in-github",
        "colab_type": "text"
      },
      "source": [
        "<a href=\"https://colab.research.google.com/github/VighneshSanjayDalvi/Assignment1/blob/main/Assignment_1_python_zero_to_hero.ipynb\" target=\"_parent\"><img src=\"https://colab.research.google.com/assets/colab-badge.svg\" alt=\"Open In Colab\"/></a>"
      ]
    },
    {
      "cell_type": "code",
      "execution_count": 5,
      "metadata": {
        "id": "GMMMgcgJWx4K",
        "colab": {
          "base_uri": "https://localhost:8080/"
        },
        "outputId": "5f12b8e1-6cd9-40d7-8ad7-047dc8acb69f"
      },
      "outputs": [
        {
          "output_type": "stream",
          "name": "stdout",
          "text": [
            "Enter number to be added and to end press 'k' : 15\n",
            "Enter number to be added and to end press 'k' : 15\n",
            "Enter number to be added and to end press 'k' : 0\n",
            "Total :  30\n"
          ]
        }
      ],
      "source": [
        "# Take multiple values as input and print sum of them.\n",
        "\n",
        "sum=0\n",
        "\n",
        "num=int(input(\"Enter number to be added and to enter 0 : \"))\n",
        "while num!=0:\n",
        "  sum=sum+num\n",
        "  num=int(input(\"Enter number to be added and to end press 'k' : \"))\n",
        "\n",
        "\n",
        "print(\"Total : \" , sum)\n"
      ]
    }
  ]
}